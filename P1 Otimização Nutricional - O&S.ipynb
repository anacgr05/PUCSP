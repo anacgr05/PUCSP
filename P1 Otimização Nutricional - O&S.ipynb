{
 "cells": [
  {
   "cell_type": "markdown",
   "id": "9525323d-aa63-4956-ac59-019516fe6087",
   "metadata": {},
   "source": [
    "<img src=\"https://www.pucsp.br/sites/default/files/download/brasao-PUCSP-assinatura-principal-RGB.png\" alt=\"Logo PUC / ODS\" style=\"width: 20%;\">"
   ]
  },
  {
   "cell_type": "markdown",
   "id": "c7470e3a-9949-42f9-a4c3-e0aef63c32c7",
   "metadata": {},
   "source": [
    "# Otimização Nutricional\n",
    "### O objetivo do projeto é desenvolver um software que utilize programação linear na otimização das quantidades necessárias de alimentos, com o objetivo de atender às necessidades nutricionais de um indivíduo adulto. A atividade começará com uma análise de uma planilha fornecida, contendo informações nutricionais de diversos alimentos"
   ]
  },
  {
   "cell_type": "markdown",
   "id": "c0e5dc7c-91e5-44b9-8397-fa934d971102",
   "metadata": {},
   "source": [
    "### Grupo"
   ]
  },
  {
   "cell_type": "markdown",
   "id": "d900a959-f9f5-48fb-90ca-dd88638023f4",
   "metadata": {},
   "source": [
    "| Nome | \n",
    "| --- | \n",
    "| Ana Beatriz Pinheiro | \n",
    "| Ana Clara Rodrigues |\n",
    "| Ana Paula Moura |\n",
    "| Lívia Rainho |\n",
    "| Renan Teano |\n"
   ]
  },
  {
   "cell_type": "markdown",
   "id": "bfb2cc85-a8f6-4468-a630-52249a359757",
   "metadata": {},
   "source": [
    "### Bibliotecas"
   ]
  },
  {
   "cell_type": "code",
   "execution_count": 3,
   "id": "33e4295f-a560-4f4d-8d25-da95370ecd2c",
   "metadata": {},
   "outputs": [
    {
     "name": "stdout",
     "output_type": "stream",
     "text": [
      "Requirement already satisfied: pulp in c:\\users\\ana clara\\anaconda3\\lib\\site-packages (2.8.0)\n"
     ]
    }
   ],
   "source": [
    "#importando todas as bibliotecas necessárias\n",
    "!pip install pulp\n",
    "from sklearn.linear_model import LinearRegression\n",
    "import pandas as pd\n",
    "import numpy as np"
   ]
  },
  {
   "cell_type": "markdown",
   "id": "5771f83d-c530-4f94-a3b0-f8a1ccbfb110",
   "metadata": {},
   "source": [
    "### Data Frames"
   ]
  },
  {
   "cell_type": "code",
   "execution_count": 4,
   "id": "6093b129-1ded-4fed-9ec2-6e6c022fe92f",
   "metadata": {},
   "outputs": [
    {
     "data": {
      "text/html": [
       "<div>\n",
       "<style scoped>\n",
       "    .dataframe tbody tr th:only-of-type {\n",
       "        vertical-align: middle;\n",
       "    }\n",
       "\n",
       "    .dataframe tbody tr th {\n",
       "        vertical-align: top;\n",
       "    }\n",
       "\n",
       "    .dataframe thead th {\n",
       "        text-align: right;\n",
       "    }\n",
       "</style>\n",
       "<table border=\"1\" class=\"dataframe\">\n",
       "  <thead>\n",
       "    <tr style=\"text-align: right;\">\n",
       "      <th></th>\n",
       "      <th>Id</th>\n",
       "      <th>Nome</th>\n",
       "      <th>Período</th>\n",
       "      <th>Categoria</th>\n",
       "      <th>Umidade (%)</th>\n",
       "      <th>Energia (kcal)</th>\n",
       "      <th>Proteina (g)</th>\n",
       "      <th>Lipideos (g)</th>\n",
       "      <th>Carboidrato (g)</th>\n",
       "      <th>Calcio (mg)</th>\n",
       "      <th>Ferro (mg)</th>\n",
       "      <th>Vitamina A (mg)</th>\n",
       "      <th>Vitamina C (mg)</th>\n",
       "    </tr>\n",
       "  </thead>\n",
       "  <tbody>\n",
       "    <tr>\n",
       "      <th>0</th>\n",
       "      <td>1</td>\n",
       "      <td>Arroz, integral, cozido</td>\n",
       "      <td>Jantar</td>\n",
       "      <td>Carboidrato</td>\n",
       "      <td>70.138667</td>\n",
       "      <td>123</td>\n",
       "      <td>2</td>\n",
       "      <td>1</td>\n",
       "      <td>25</td>\n",
       "      <td>5</td>\n",
       "      <td>0</td>\n",
       "      <td>0</td>\n",
       "      <td>0</td>\n",
       "    </tr>\n",
       "    <tr>\n",
       "      <th>1</th>\n",
       "      <td>2</td>\n",
       "      <td>Arroz, cozido</td>\n",
       "      <td>Almoço</td>\n",
       "      <td>Carboidrato</td>\n",
       "      <td>69.113667</td>\n",
       "      <td>128</td>\n",
       "      <td>2</td>\n",
       "      <td>0</td>\n",
       "      <td>28</td>\n",
       "      <td>3</td>\n",
       "      <td>0</td>\n",
       "      <td>0</td>\n",
       "      <td>0</td>\n",
       "    </tr>\n",
       "    <tr>\n",
       "      <th>2</th>\n",
       "      <td>3</td>\n",
       "      <td>Biscoito, doce, maisena</td>\n",
       "      <td>Lanche</td>\n",
       "      <td>Carboidrato</td>\n",
       "      <td>3.2</td>\n",
       "      <td>442</td>\n",
       "      <td>8</td>\n",
       "      <td>11</td>\n",
       "      <td>75</td>\n",
       "      <td>54</td>\n",
       "      <td>1</td>\n",
       "      <td>0</td>\n",
       "      <td>6</td>\n",
       "    </tr>\n",
       "    <tr>\n",
       "      <th>3</th>\n",
       "      <td>4</td>\n",
       "      <td>Biscoito, salgado, cream cracker</td>\n",
       "      <td>Lanche</td>\n",
       "      <td>Carboidrato</td>\n",
       "      <td>4.056667</td>\n",
       "      <td>431</td>\n",
       "      <td>10</td>\n",
       "      <td>14</td>\n",
       "      <td>68</td>\n",
       "      <td>20</td>\n",
       "      <td>2</td>\n",
       "      <td>0</td>\n",
       "      <td>0</td>\n",
       "    </tr>\n",
       "    <tr>\n",
       "      <th>4</th>\n",
       "      <td>5</td>\n",
       "      <td>Bolo, pronto, chocolate</td>\n",
       "      <td>Lanche</td>\n",
       "      <td>Carboidrato</td>\n",
       "      <td>19.276333</td>\n",
       "      <td>410</td>\n",
       "      <td>6</td>\n",
       "      <td>18</td>\n",
       "      <td>54</td>\n",
       "      <td>74</td>\n",
       "      <td>2</td>\n",
       "      <td>0</td>\n",
       "      <td>0</td>\n",
       "    </tr>\n",
       "  </tbody>\n",
       "</table>\n",
       "</div>"
      ],
      "text/plain": [
       "   Id                              Nome Período    Categoria Umidade (%)  \\\n",
       "0   1           Arroz, integral, cozido  Jantar  Carboidrato   70.138667   \n",
       "1   2                     Arroz, cozido  Almoço  Carboidrato   69.113667   \n",
       "2   3           Biscoito, doce, maisena  Lanche  Carboidrato         3.2   \n",
       "3   4  Biscoito, salgado, cream cracker  Lanche  Carboidrato    4.056667   \n",
       "4   5           Bolo, pronto, chocolate  Lanche  Carboidrato   19.276333   \n",
       "\n",
       "   Energia (kcal)  Proteina (g)  Lipideos (g)  Carboidrato (g)  Calcio (mg)  \\\n",
       "0             123             2             1               25            5   \n",
       "1             128             2             0               28            3   \n",
       "2             442             8            11               75           54   \n",
       "3             431            10            14               68           20   \n",
       "4             410             6            18               54           74   \n",
       "\n",
       "   Ferro (mg)  Vitamina A (mg)  Vitamina C (mg)  \n",
       "0           0                0                0  \n",
       "1           0                0                0  \n",
       "2           1                0                6  \n",
       "3           2                0                0  \n",
       "4           2                0                0  "
      ]
     },
     "execution_count": 4,
     "metadata": {},
     "output_type": "execute_result"
    }
   ],
   "source": [
    "#Criando um Data Frame \n",
    "df_alimentos = pd.read_excel(\"Informações Nutricionais - P1 O&S.xlsx\")\n",
    "\n",
    "# Manipulando os dados \n",
    "colunas_transformar = ['Energia (kcal)', 'Proteina (g)', 'Lipideos (g)', 'Carboidrato (g)', \n",
    "                       'Calcio (mg)', 'Ferro (mg)', 'Vitamina A (mg)', 'Vitamina C (mg)']\n",
    "\n",
    "for coluna in colunas_transformar:\n",
    "    # Transformar todos os dados em numerico\n",
    "    df_alimentos[coluna] = pd.to_numeric(df_alimentos[coluna], errors='coerce')\n",
    "    \n",
    "    # Colocando os valores Nan em 0\n",
    "    df_alimentos[coluna] = df_alimentos[coluna].fillna(0)\n",
    "    \n",
    "    # Convertendo os valores para inteiro\n",
    "    df_alimentos[coluna] = df_alimentos[coluna].astype(int)\n",
    "\n",
    "df_alimentos.head()\n",
    "\n"
   ]
  },
  {
   "cell_type": "code",
   "execution_count": 5,
   "id": "5ebef22e-9902-400e-b32a-851de5f80a4f",
   "metadata": {},
   "outputs": [
    {
     "data": {
      "text/html": [
       "<div>\n",
       "<style scoped>\n",
       "    .dataframe tbody tr th:only-of-type {\n",
       "        vertical-align: middle;\n",
       "    }\n",
       "\n",
       "    .dataframe tbody tr th {\n",
       "        vertical-align: top;\n",
       "    }\n",
       "\n",
       "    .dataframe thead th {\n",
       "        text-align: right;\n",
       "    }\n",
       "</style>\n",
       "<table border=\"1\" class=\"dataframe\">\n",
       "  <thead>\n",
       "    <tr style=\"text-align: right;\">\n",
       "      <th></th>\n",
       "      <th>Sexo</th>\n",
       "      <th>Peso (kg)</th>\n",
       "      <th>Proteina (g)</th>\n",
       "      <th>Carboidrato (g)</th>\n",
       "      <th>Lipideos (g)</th>\n",
       "      <th>Vitamina A (mg)</th>\n",
       "      <th>Vitamina C (mg)</th>\n",
       "      <th>Calcio (mg)</th>\n",
       "      <th>Ferro (mg)</th>\n",
       "    </tr>\n",
       "  </thead>\n",
       "  <tbody>\n",
       "    <tr>\n",
       "      <th>0</th>\n",
       "      <td>Homem</td>\n",
       "      <td>50</td>\n",
       "      <td>40</td>\n",
       "      <td>200</td>\n",
       "      <td>50</td>\n",
       "      <td>900</td>\n",
       "      <td>90</td>\n",
       "      <td>1000</td>\n",
       "      <td>8</td>\n",
       "    </tr>\n",
       "    <tr>\n",
       "      <th>1</th>\n",
       "      <td>Homem</td>\n",
       "      <td>60</td>\n",
       "      <td>48</td>\n",
       "      <td>240</td>\n",
       "      <td>60</td>\n",
       "      <td>900</td>\n",
       "      <td>90</td>\n",
       "      <td>1000</td>\n",
       "      <td>8</td>\n",
       "    </tr>\n",
       "    <tr>\n",
       "      <th>2</th>\n",
       "      <td>Homem</td>\n",
       "      <td>70</td>\n",
       "      <td>56</td>\n",
       "      <td>280</td>\n",
       "      <td>70</td>\n",
       "      <td>900</td>\n",
       "      <td>90</td>\n",
       "      <td>1000</td>\n",
       "      <td>8</td>\n",
       "    </tr>\n",
       "    <tr>\n",
       "      <th>3</th>\n",
       "      <td>Homem</td>\n",
       "      <td>80</td>\n",
       "      <td>64</td>\n",
       "      <td>320</td>\n",
       "      <td>80</td>\n",
       "      <td>900</td>\n",
       "      <td>90</td>\n",
       "      <td>1000</td>\n",
       "      <td>8</td>\n",
       "    </tr>\n",
       "    <tr>\n",
       "      <th>4</th>\n",
       "      <td>Homem</td>\n",
       "      <td>90</td>\n",
       "      <td>72</td>\n",
       "      <td>360</td>\n",
       "      <td>90</td>\n",
       "      <td>900</td>\n",
       "      <td>90</td>\n",
       "      <td>1000</td>\n",
       "      <td>8</td>\n",
       "    </tr>\n",
       "  </tbody>\n",
       "</table>\n",
       "</div>"
      ],
      "text/plain": [
       "    Sexo  Peso (kg)  Proteina (g)  Carboidrato (g)  Lipideos (g)  \\\n",
       "0  Homem         50            40              200            50   \n",
       "1  Homem         60            48              240            60   \n",
       "2  Homem         70            56              280            70   \n",
       "3  Homem         80            64              320            80   \n",
       "4  Homem         90            72              360            90   \n",
       "\n",
       "   Vitamina A (mg)  Vitamina C (mg)  Calcio (mg)  Ferro (mg)  \n",
       "0              900               90         1000           8  \n",
       "1              900               90         1000           8  \n",
       "2              900               90         1000           8  \n",
       "3              900               90         1000           8  \n",
       "4              900               90         1000           8  "
      ]
     },
     "execution_count": 5,
     "metadata": {},
     "output_type": "execute_result"
    }
   ],
   "source": [
    "# Criando um Data Frame com o arquivo de necessidades nutricionais \n",
    "df_necessidades = pd.read_excel(\"Quantidade Necessária.xlsx\")\n",
    "df_necessidades.head()"
   ]
  },
  {
   "cell_type": "markdown",
   "id": "d8fbf108-7b3e-4d46-906b-5aae6acb147b",
   "metadata": {},
   "source": [
    "### Listas"
   ]
  },
  {
   "cell_type": "code",
   "execution_count": 6,
   "id": "f25ebc5f-0f23-429d-ab75-15c09b3175ea",
   "metadata": {},
   "outputs": [
    {
     "name": "stdout",
     "output_type": "stream",
     "text": [
      "Lista de indice dos alimentos para o Café da Manhã:\n",
      "[6, 9, 10, 11, 12, 18, 48, 114, 115, 116, 117, 118, 119, 149, 203, 210, 211, 217, 218, 219, 220, 221, 223, 224, 225, 226, 227, 228, 229, 230, 231, 232, 233, 234, 235, 237, 238, 239, 240, 246, 247, 248, 249, 259, 260, 261, 262, 263, 264, 267]\n",
      "Lista de indice dos alimentos para o Lanche:\n",
      "[2, 3, 4, 5, 13, 14, 15, 16, 58, 59, 60, 61, 62, 63, 64, 65, 66, 67, 68, 69, 70, 71, 72, 73, 74, 75, 76, 77, 78, 79, 80, 81, 82, 83, 84, 85, 86, 87, 88, 89, 90, 91, 92, 93, 94, 95, 96, 97, 98, 99, 100, 101, 102, 103, 104, 105, 106, 107, 108, 109, 110, 111, 180, 212, 213, 222, 257, 258, 293, 294, 295, 296, 297, 298, 299, 300, 301]\n",
      "Lista de indice dos alimentos para o Almoço:\n",
      "[1, 8, 17, 19, 22, 23, 24, 26, 27, 41, 43, 44, 45, 46, 47, 49, 52, 53, 54, 55, 56, 57, 112, 113, 120, 121, 122, 123, 126, 127, 128, 135, 136, 137, 138, 139, 145, 146, 147, 148, 155, 156, 157, 158, 159, 160, 162, 163, 164, 165, 166, 170, 173, 183, 184, 185, 186, 187, 188, 189, 190, 201, 202, 204, 205, 206, 207, 208, 209, 236, 241, 242, 243, 244, 245, 265, 266, 268, 272, 276, 277, 278, 279, 281, 283, 284, 285, 286, 287, 288, 289, 290, 291, 292]\n",
      "Lista de indice dos alimentos para o Jantar:\n",
      "[0, 7, 20, 21, 25, 28, 29, 30, 31, 32, 33, 34, 35, 36, 37, 38, 39, 40, 42, 50, 51, 124, 125, 129, 130, 131, 132, 133, 134, 140, 141, 142, 143, 144, 150, 151, 152, 153, 154, 161, 167, 168, 169, 171, 172, 174, 175, 176, 177, 178, 179, 181, 182, 191, 192, 193, 194, 195, 196, 197, 198, 199, 200, 214, 215, 216, 250, 251, 252, 253, 254, 255, 256, 269, 270, 271, 273, 274, 275, 280, 282]\n"
     ]
    }
   ],
   "source": [
    "#Cração de 3 listas vazias\n",
    "cafe = []\n",
    "almoco = []\n",
    "jantar = []\n",
    "lanche = []\n",
    "#loop para iterar as linhas do DataFrame\n",
    "for i, row in df_alimentos.iterrows():\n",
    "    periodo = row[\"Período\"]\n",
    "    nome = row[\"Nome\"]\n",
    "    nutrientes = {\n",
    "        'Proteina (g)': row['Proteina (g)'],\n",
    "        'Lipideos (g)': row['Lipideos (g)'],\n",
    "        'Carboidrato (g)': row['Carboidrato (g)'],\n",
    "        'Calcio (mg)': row['Calcio (mg)'],\n",
    "        'Ferro (mg)': row['Ferro (mg)'],\n",
    "        'Vitamina A (mg)': row['Vitamina A (mg)'],\n",
    "        'Vitamina C (mg)': row['Vitamina C (mg)']\n",
    "    }\n",
    "#Condições para criar a lista conforme os dados da coluna periodo\n",
    "    if periodo == \"Café da Manhã\":\n",
    "        cafe.append(i)\n",
    "    if periodo == \"Lanche\":\n",
    "        lanche.append(i)\n",
    "    if periodo == \"Almoço\":\n",
    "        almoco.append(i)\n",
    "    if periodo == \"Jantar\":\n",
    "        jantar.append(i)\n",
    "print(\"Lista de indice dos alimentos para o Café da Manhã:\")\n",
    "print(cafe)\n",
    "print(\"Lista de indice dos alimentos para o Lanche:\")\n",
    "print(lanche)\n",
    "print(\"Lista de indice dos alimentos para o Almoço:\")\n",
    "print(almoco)\n",
    "print(\"Lista de indice dos alimentos para o Jantar:\")\n",
    "print(jantar)"
   ]
  },
  {
   "cell_type": "markdown",
   "id": "02b27a5c-3855-4c7a-b0c0-d0ac2c62b480",
   "metadata": {},
   "source": [
    "### Regressão Linear"
   ]
  },
  {
   "cell_type": "code",
   "execution_count": 7,
   "id": "40c7cf81-18c0-4743-8e3c-eed22b8acd9f",
   "metadata": {},
   "outputs": [
    {
     "data": {
      "text/plain": [
       "array([[50],\n",
       "       [55],\n",
       "       [60],\n",
       "       [65],\n",
       "       [70]], dtype=int64)"
      ]
     },
     "execution_count": 7,
     "metadata": {},
     "output_type": "execute_result"
    }
   ],
   "source": [
    "Mulher = df_necessidades[df_necessidades[\"Sexo\"] == \"Mulher\"]\n",
    "x = Mulher[\"Peso (kg)\"]\n",
    "x = np.array(x).reshape(-1,1)\n",
    "x"
   ]
  },
  {
   "cell_type": "code",
   "execution_count": 8,
   "id": "2afef958-646a-4f26-b8a7-8e6af42c8fc1",
   "metadata": {},
   "outputs": [
    {
     "data": {
      "text/plain": [
       "Index(['Sexo', 'Peso (kg)', 'Proteina (g)', 'Carboidrato (g)', 'Lipideos (g)',\n",
       "       'Vitamina A (mg)', 'Vitamina C (mg)', 'Calcio (mg)', 'Ferro (mg)'],\n",
       "      dtype='object')"
      ]
     },
     "execution_count": 8,
     "metadata": {},
     "output_type": "execute_result"
    }
   ],
   "source": [
    "Mulher.columns"
   ]
  },
  {
   "cell_type": "code",
   "execution_count": 9,
   "id": "13cc227a-0c42-4626-a552-9b33c82b7f6a",
   "metadata": {},
   "outputs": [
    {
     "data": {
      "text/plain": [
       "array([[40],\n",
       "       [43],\n",
       "       [46],\n",
       "       [49],\n",
       "       [52]], dtype=int64)"
      ]
     },
     "execution_count": 9,
     "metadata": {},
     "output_type": "execute_result"
    }
   ],
   "source": [
    "y = Mulher[\"Proteina (g)\"]\n",
    "y = np.array(y).reshape(-1,1)\n",
    "y"
   ]
  },
  {
   "cell_type": "code",
   "execution_count": 10,
   "id": "91786377-12c8-4b27-8d86-d5ee55ba991d",
   "metadata": {},
   "outputs": [
    {
     "data": {
      "text/html": [
       "<style>#sk-container-id-1 {color: black;background-color: white;}#sk-container-id-1 pre{padding: 0;}#sk-container-id-1 div.sk-toggleable {background-color: white;}#sk-container-id-1 label.sk-toggleable__label {cursor: pointer;display: block;width: 100%;margin-bottom: 0;padding: 0.3em;box-sizing: border-box;text-align: center;}#sk-container-id-1 label.sk-toggleable__label-arrow:before {content: \"▸\";float: left;margin-right: 0.25em;color: #696969;}#sk-container-id-1 label.sk-toggleable__label-arrow:hover:before {color: black;}#sk-container-id-1 div.sk-estimator:hover label.sk-toggleable__label-arrow:before {color: black;}#sk-container-id-1 div.sk-toggleable__content {max-height: 0;max-width: 0;overflow: hidden;text-align: left;background-color: #f0f8ff;}#sk-container-id-1 div.sk-toggleable__content pre {margin: 0.2em;color: black;border-radius: 0.25em;background-color: #f0f8ff;}#sk-container-id-1 input.sk-toggleable__control:checked~div.sk-toggleable__content {max-height: 200px;max-width: 100%;overflow: auto;}#sk-container-id-1 input.sk-toggleable__control:checked~label.sk-toggleable__label-arrow:before {content: \"▾\";}#sk-container-id-1 div.sk-estimator input.sk-toggleable__control:checked~label.sk-toggleable__label {background-color: #d4ebff;}#sk-container-id-1 div.sk-label input.sk-toggleable__control:checked~label.sk-toggleable__label {background-color: #d4ebff;}#sk-container-id-1 input.sk-hidden--visually {border: 0;clip: rect(1px 1px 1px 1px);clip: rect(1px, 1px, 1px, 1px);height: 1px;margin: -1px;overflow: hidden;padding: 0;position: absolute;width: 1px;}#sk-container-id-1 div.sk-estimator {font-family: monospace;background-color: #f0f8ff;border: 1px dotted black;border-radius: 0.25em;box-sizing: border-box;margin-bottom: 0.5em;}#sk-container-id-1 div.sk-estimator:hover {background-color: #d4ebff;}#sk-container-id-1 div.sk-parallel-item::after {content: \"\";width: 100%;border-bottom: 1px solid gray;flex-grow: 1;}#sk-container-id-1 div.sk-label:hover label.sk-toggleable__label {background-color: #d4ebff;}#sk-container-id-1 div.sk-serial::before {content: \"\";position: absolute;border-left: 1px solid gray;box-sizing: border-box;top: 0;bottom: 0;left: 50%;z-index: 0;}#sk-container-id-1 div.sk-serial {display: flex;flex-direction: column;align-items: center;background-color: white;padding-right: 0.2em;padding-left: 0.2em;position: relative;}#sk-container-id-1 div.sk-item {position: relative;z-index: 1;}#sk-container-id-1 div.sk-parallel {display: flex;align-items: stretch;justify-content: center;background-color: white;position: relative;}#sk-container-id-1 div.sk-item::before, #sk-container-id-1 div.sk-parallel-item::before {content: \"\";position: absolute;border-left: 1px solid gray;box-sizing: border-box;top: 0;bottom: 0;left: 50%;z-index: -1;}#sk-container-id-1 div.sk-parallel-item {display: flex;flex-direction: column;z-index: 1;position: relative;background-color: white;}#sk-container-id-1 div.sk-parallel-item:first-child::after {align-self: flex-end;width: 50%;}#sk-container-id-1 div.sk-parallel-item:last-child::after {align-self: flex-start;width: 50%;}#sk-container-id-1 div.sk-parallel-item:only-child::after {width: 0;}#sk-container-id-1 div.sk-dashed-wrapped {border: 1px dashed gray;margin: 0 0.4em 0.5em 0.4em;box-sizing: border-box;padding-bottom: 0.4em;background-color: white;}#sk-container-id-1 div.sk-label label {font-family: monospace;font-weight: bold;display: inline-block;line-height: 1.2em;}#sk-container-id-1 div.sk-label-container {text-align: center;}#sk-container-id-1 div.sk-container {/* jupyter's `normalize.less` sets `[hidden] { display: none; }` but bootstrap.min.css set `[hidden] { display: none !important; }` so we also need the `!important` here to be able to override the default hidden behavior on the sphinx rendered scikit-learn.org. See: https://github.com/scikit-learn/scikit-learn/issues/21755 */display: inline-block !important;position: relative;}#sk-container-id-1 div.sk-text-repr-fallback {display: none;}</style><div id=\"sk-container-id-1\" class=\"sk-top-container\"><div class=\"sk-text-repr-fallback\"><pre>LinearRegression()</pre><b>In a Jupyter environment, please rerun this cell to show the HTML representation or trust the notebook. <br />On GitHub, the HTML representation is unable to render, please try loading this page with nbviewer.org.</b></div><div class=\"sk-container\" hidden><div class=\"sk-item\"><div class=\"sk-estimator sk-toggleable\"><input class=\"sk-toggleable__control sk-hidden--visually\" id=\"sk-estimator-id-1\" type=\"checkbox\" checked><label for=\"sk-estimator-id-1\" class=\"sk-toggleable__label sk-toggleable__label-arrow\">LinearRegression</label><div class=\"sk-toggleable__content\"><pre>LinearRegression()</pre></div></div></div></div></div>"
      ],
      "text/plain": [
       "LinearRegression()"
      ]
     },
     "execution_count": 10,
     "metadata": {},
     "output_type": "execute_result"
    }
   ],
   "source": [
    "#Criando a regressão linear \n",
    "model = LinearRegression()\n",
    "model.fit(x,y)"
   ]
  },
  {
   "cell_type": "code",
   "execution_count": 11,
   "id": "9391da06-e6cb-49ef-9fb0-f9e71e03196f",
   "metadata": {},
   "outputs": [
    {
     "name": "stdout",
     "output_type": "stream",
     "text": [
      "Valores interpolados para Mulher com 62 kg:\n",
      "Proteina (g): 47\n",
      "Carboidrato (g): 236\n",
      "Lipideos (g): 62\n",
      "Vitamina A (mg): 700\n",
      "Vitamina C (mg): 75\n",
      "Calcio (mg): 1000\n",
      "Ferro (mg): 18\n"
     ]
    }
   ],
   "source": [
    "entrada = [\"Peso (kg)\"]\n",
    "saidas = ['Proteina (g)', 'Carboidrato (g)', 'Lipideos (g)', 'Vitamina A (mg)', 'Vitamina C (mg)', 'Calcio (mg)', 'Ferro (mg)']\n",
    "sexo = \"Mulher\"\n",
    "peso = 62\n",
    "\n",
    "dados_filtrados = df_necessidades[df_necessidades[\"Sexo\"] == sexo]\n",
    "\n",
    "models = {}\n",
    "for saida in saidas:\n",
    "    model = LinearRegression()\n",
    "    model.fit(dados_filtrados[entrada],dados_filtrados[saida],sample_weight=None)\n",
    "    models[saida]= model\n",
    "\n",
    "predictions = {}\n",
    "for saida, model in models.items():\n",
    "    prediction = model.predict(pd.DataFrame(data = [[peso]], columns = entrada))\n",
    "    predictions[saida] = prediction[0]\n",
    "    \n",
    "print(f\"Valores interpolados para {sexo} com {peso} kg:\")\n",
    "for target, value in predictions.items():\n",
    "    print(f\"{target}: {value:.0f}\")"
   ]
  },
  {
   "cell_type": "markdown",
   "id": "f2c82699-a5ec-4400-b214-ff04155787a5",
   "metadata": {},
   "source": [
    "### Otimização"
   ]
  },
  {
   "cell_type": "code",
   "execution_count": 12,
   "id": "790ce84d-e365-4367-bbcf-a15a33145032",
   "metadata": {},
   "outputs": [
    {
     "name": "stdout",
     "output_type": "stream",
     "text": [
      "Status: Optimal\n",
      "Solução Ótima Encontrada:\n",
      "\n",
      "Refeição 1 - Café da Manhã:\n",
      "Mingau tradicional, pó = 1.0\n",
      "Iogurte, sabor abacaxi = 1.0\n",
      "Chá, erva-doce, infusão 5% = 1.0\n",
      "Chá, mate, infusão 5% = 1.0\n",
      "\n",
      "Refeição 2 - Lanche:\n",
      "Abacate, cru = 1.0\n",
      "Maracujá, cru = 1.0\n",
      "Pêra, Williams, crua = 1.0\n",
      "\n",
      "Refeição 3 - Almoço:\n",
      "Espinafre, Nova Zelândia, refogado = 1.0\n",
      "Pepino, cru = 1.0\n",
      "Tomate, com semente, cru = 1.0\n",
      "Feijão tropeiro mineiro = 1.0\n",
      "\n",
      "Refeição 4 - Jantar:\n",
      "Alface, lisa, crua = 1.0\n",
      "Repolho, roxo, refogado = 1.0\n",
      "Rúcula, crua = 1.0\n",
      "Corvina grande, cozida = 1.0\n",
      "Total Calories: 1700.00\n"
     ]
    }
   ],
   "source": [
    "from pulp import LpVariable, LpProblem, lpSum, LpMinimize, LpStatus\n",
    "nutriente_necessário = {\n",
    "    \"Proteina (g)\": 46,\n",
    "    \"Carboidrato (g)\": 230,\n",
    "    \"Lipideos (g)\": 60,\n",
    "    \"Vitamina A (mg)\": 700,\n",
    "    \"Vitamina C (mg)\": 75,\n",
    "    \"Calcio (mg)\": 1000,\n",
    "    \"Ferro (mg)\": 18\n",
    "}\n",
    "alimentos_selecionados = []\n",
    "\n",
    "def otimizar():\n",
    "    global alimentos_selecionados\n",
    "    #Criação do problema\n",
    "    prob = LpProblem(\"Dieta\", LpMinimize)\n",
    "    #Criação das variáveis\n",
    "    quantidade = LpVariable.dicts(\"Quantidade\", df_alimentos.index, lowBound=0, upBound=1, cat = 'Integer')\n",
    "    #objetivo: minimizar calorias totais\n",
    "    prob += lpSum([df_alimentos.loc[i, \"Energia (kcal)\"] * quantidade[i] for i in df_alimentos.index])\n",
    "    #restrição principal\n",
    "    for nutriente, quant in nutriente_necessário.items():\n",
    "        prob += lpSum([df_alimentos.loc[j, nutriente] * quantidade[j] for j in df_alimentos.index]) >= quant\n",
    "    \n",
    "    #restrições\n",
    "    prob += lpSum([quantidade[i]for i in cafe]) == 4\n",
    "    prob += lpSum([quantidade[i]for i in lanche]) == 3\n",
    "    prob += lpSum([quantidade[i]for i in almoco]) == 5\n",
    "    prob += lpSum([quantidade[i]for i in jantar]) == 5\n",
    "    #restringir para que não venha alimentos repetidos\n",
    "    prob += lpSum([quantidade[i]for i in alimentos_selecionados]) == 0\n",
    "    #resolução\n",
    "    prob.solve()\n",
    "\n",
    "    alimentos_selecionados.extend([i for i in df_alimentos.index if quantidade[i].varValue > 0])\n",
    "    \n",
    "    print(\"Status:\", LpStatus[prob.status])\n",
    "    if LpStatus[prob.status] == \"Optimal\":\n",
    "        print(\"Solução Ótima Encontrada:\")\n",
    "        \n",
    "        print(\"\\nRefeição 1 - Café da Manhã:\")\n",
    "        alimentos_cafe = [i for i in cafe if quantidade[i].varValue > 0]\n",
    "        for i in alimentos_cafe[:4]:\n",
    "            print(f\"{df_alimentos.loc[i, 'Nome']} = {quantidade[i].varValue}\")\n",
    "\n",
    "        print(\"\\nRefeição 2 - Lanche:\")\n",
    "        alimentos_lanche = [i for i in lanche if quantidade[i].varValue > 0]\n",
    "        for i in alimentos_lanche[:4]:\n",
    "            print(f\"{df_alimentos.loc[i,'Nome']} = {quantidade[i].varValue}\")\n",
    "\n",
    "        print(\"\\nRefeição 3 - Almoço:\")\n",
    "        alimentos_almoco = [i for i in almoco if quantidade[i].varValue > 0]\n",
    "        for i in alimentos_almoco[:4]:\n",
    "            print(f\"{df_alimentos.loc[i,'Nome']} = {quantidade[i].varValue}\")\n",
    "\n",
    "        print(\"\\nRefeição 4 - Jantar:\")\n",
    "        alimentos_jantar = [i for i in jantar if quantidade[i].varValue > 0]\n",
    "        for i in alimentos_jantar[:4]:\n",
    "            print(f\"{df_alimentos.loc[i,'Nome']} = {quantidade[i].varValue}\")\n",
    "            \n",
    "    else:\n",
    "        print(\"Não foi possível encontrar uma solução viável.\")\n",
    "\n",
    "    # Cálculo do total de calorias\n",
    "    total_calories = sum([df_alimentos.loc[i, \"Energia (kcal)\"] * quantidade[idx].varValue for idx in df_alimentos.index if quantidade[idx].varValue > 0])\n",
    "    print(f\"Total Calories: {total_calories:.2f}\")\n",
    "\n",
    "otimizar()\n",
    "\n"
   ]
  },
  {
   "cell_type": "code",
   "execution_count": null,
   "id": "7ca0d82f-ddd6-4a54-a79b-7d5b9d433c98",
   "metadata": {},
   "outputs": [],
   "source": []
  }
 ],
 "metadata": {
  "kernelspec": {
   "display_name": "Python 3 (ipykernel)",
   "language": "python",
   "name": "python3"
  },
  "language_info": {
   "codemirror_mode": {
    "name": "ipython",
    "version": 3
   },
   "file_extension": ".py",
   "mimetype": "text/x-python",
   "name": "python",
   "nbconvert_exporter": "python",
   "pygments_lexer": "ipython3",
   "version": "3.11.7"
  }
 },
 "nbformat": 4,
 "nbformat_minor": 5
}
