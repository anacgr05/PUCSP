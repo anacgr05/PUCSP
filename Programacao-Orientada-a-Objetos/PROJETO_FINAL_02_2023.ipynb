{
 "cells": [
  {
   "cell_type": "markdown",
   "metadata": {},
   "source": [
    "<img src=\"https://www.pucsp.br/sites/default/files/download/brasao-PUCSP-assinatura-principal-RGB.png\" alt =\"Logo PUC\" style=\"width: 20%\">"
   ]
  },
  {
   "cell_type": "markdown",
   "metadata": {},
   "source": [
    "|nome|\n",
    "|---|\n",
    "|Ana Beatriz Pinheiro|\n",
    "|Ana Clara Rodrigues|\n",
    "|Ana Paula Moura|\n",
    "|Renan Teano|"
   ]
  },
  {
   "cell_type": "markdown",
   "metadata": {
    "id": "EqJ1vUmXwgc0"
   },
   "source": [
    "# I CAN GUESS THE DATA STRUCTURE\n",
    "\n",
    "### Criar um codigo para dizer se os inputs são filas, filas de prioridade ou pilhas.\n"
   ]
  },
  {
   "cell_type": "code",
   "execution_count": null,
   "metadata": {
    "colab": {
     "background_save": true,
     "base_uri": "https://localhost:8080/"
    },
    "id": "JHCOIHjQCUuG",
    "outputId": "053943f5-cbaf-4915-c406-0e9d3a747b39"
   },
   "outputs": [
    {
     "name": "stdout",
     "output_type": "stream",
     "text": [
      "queue\n",
      "not sure\n",
      "impossible\n",
      "stack\n",
      "priority queue\n"
     ]
    }
   ],
   "source": [
    "while True:\n",
    "    try:\n",
    "        n = int(input())\n",
    "        commands = []\n",
    "\n",
    "        for _ in range(n):\n",
    "            command =input().split()\n",
    "            if command[0] in ['1', '2']:\n",
    "                commands.append(command)\n",
    "            else:\n",
    "                print(\"add 1 or 2\")\n",
    "\n",
    "        stack_cmd = queue_cmd = priority_queue_cmd = True\n",
    "        stack = []\n",
    "        queue = []\n",
    "        priority_queue = []\n",
    "\n",
    "        for cmd in commands :\n",
    "            if cmd[0] == '1':\n",
    "                x = int(cmd[1])\n",
    "                stack.append(x)\n",
    "                queue.append(x)\n",
    "                priority_queue.append(x)\n",
    "                priority_queue.sort(reverse=True)\n",
    "            else:\n",
    "                x = int(cmd[1])\n",
    "                if len(stack) == 0 or x != stack.pop():\n",
    "                    stack_cmd = False\n",
    "                if len(queue) == 0 or x != queue.pop(0):\n",
    "                    queue_cmd = False\n",
    "                if len(priority_queue) == 0 or x != priority_queue.pop(0):\n",
    "                    priority_queue_cmd = False\n",
    "\n",
    "        if stack_cmd and not queue_cmd and not priority_queue_cmd:\n",
    "            print(\"stack\")\n",
    "        elif not stack_cmd and queue_cmd and not priority_queue_cmd:\n",
    "            print(\"queue\")\n",
    "        elif not stack_cmd and not queue_cmd and priority_queue_cmd:\n",
    "            print(\"priority queue\")\n",
    "        elif not stack_cmd and not queue_cmd and not priority_queue_cmd:\n",
    "            print(\"impossible\")\n",
    "        else:\n",
    "            print(\"not sure\")\n",
    "\n",
    "    except EOFError:\n",
    "        break\n"
   ]
  }
 ],
 "metadata": {
  "colab": {
   "provenance": []
  },
  "kernelspec": {
   "display_name": "Python 3 (ipykernel)",
   "language": "python",
   "name": "python3"
  },
  "language_info": {
   "codemirror_mode": {
    "name": "ipython",
    "version": 3
   },
   "file_extension": ".py",
   "mimetype": "text/x-python",
   "name": "python",
   "nbconvert_exporter": "python",
   "pygments_lexer": "ipython3",
   "version": "3.11.7"
  }
 },
 "nbformat": 4,
 "nbformat_minor": 4
}
